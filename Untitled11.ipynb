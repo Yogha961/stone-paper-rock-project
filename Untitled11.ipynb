{
 "cells": [
  {
   "cell_type": "code",
   "execution_count": 1,
   "id": "b9e0c595",
   "metadata": {},
   "outputs": [
    {
     "name": "stdout",
     "output_type": "stream",
     "text": [
      "Enter your choice (rock, paper, scissors): rock\n",
      "You chose: rock\n",
      "Computer chose: scissors\n",
      "You win!\n"
     ]
    }
   ],
   "source": [
    "import random\n",
    "\n",
    "def computer_choice():\n",
    "    choices = ['rock', 'paper', 'scissors']\n",
    "    return random.choice(choices)\n",
    "\n",
    "def main():\n",
    "    user_choice = input(\"Enter your choice (rock, paper, scissors): \")\n",
    "    computer = computer_choice()\n",
    "\n",
    "    print(\"You chose:\", user_choice)\n",
    "    print(\"Computer chose:\", computer)\n",
    "\n",
    "    if user_choice == 'rock' and computer == 'scissors':\n",
    "        print(\"You win!\")\n",
    "    elif user_choice == 'paper' and computer == 'rock':\n",
    "        print(\"You win!\")\n",
    "    elif user_choice == 'scissors' and computer == 'paper':\n",
    "        print(\"You win!\")\n",
    "    elif user_choice == computer:\n",
    "        print(\"It's a tie!\")\n",
    "    else:\n",
    "        print(\"Computer wins!\")\n",
    "\n",
    "main()"
   ]
  },
  {
   "cell_type": "code",
   "execution_count": null,
   "id": "f56378a4",
   "metadata": {},
   "outputs": [],
   "source": []
  }
 ],
 "metadata": {
  "kernelspec": {
   "display_name": "Python 3 (ipykernel)",
   "language": "python",
   "name": "python3"
  },
  "language_info": {
   "codemirror_mode": {
    "name": "ipython",
    "version": 3
   },
   "file_extension": ".py",
   "mimetype": "text/x-python",
   "name": "python",
   "nbconvert_exporter": "python",
   "pygments_lexer": "ipython3",
   "version": "3.9.12"
  }
 },
 "nbformat": 4,
 "nbformat_minor": 5
}
